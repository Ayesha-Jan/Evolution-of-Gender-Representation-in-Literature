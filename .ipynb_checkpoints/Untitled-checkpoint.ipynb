{
 "cells": [
  {
   "cell_type": "code",
   "execution_count": 2,
   "id": "5392bf06-7428-4f81-9eb8-a53b698f4fd9",
   "metadata": {},
   "outputs": [],
   "source": [
    "import pandas as pd\n",
    "import seaborn as sns\n",
    "import matplotlib.pyplot as plt\n",
    "import numpy as np\n",
    "import plotly.express as px\n",
    "import matplotlib.ticker as ticker\n",
    "from dateutil import parser\n",
    "import scipy.stats as stats\n",
    "import plotly.graph_objects as go"
   ]
  },
  {
   "cell_type": "code",
   "execution_count": 8,
   "id": "5851ffe5-22cb-4572-94fe-9a319b92e77c",
   "metadata": {},
   "outputs": [
    {
     "data": {
      "text/html": [
       "<div>\n",
       "<style scoped>\n",
       "    .dataframe tbody tr th:only-of-type {\n",
       "        vertical-align: middle;\n",
       "    }\n",
       "\n",
       "    .dataframe tbody tr th {\n",
       "        vertical-align: top;\n",
       "    }\n",
       "\n",
       "    .dataframe thead th {\n",
       "        text-align: right;\n",
       "    }\n",
       "</style>\n",
       "<table border=\"1\" class=\"dataframe\">\n",
       "  <thead>\n",
       "    <tr style=\"text-align: right;\">\n",
       "      <th></th>\n",
       "      <th>author_average_rating</th>\n",
       "      <th>author_gender</th>\n",
       "      <th>author_genres</th>\n",
       "      <th>author_id</th>\n",
       "      <th>author_name</th>\n",
       "      <th>author_page_url</th>\n",
       "      <th>author_rating_count</th>\n",
       "      <th>author_review_count</th>\n",
       "      <th>birthplace</th>\n",
       "      <th>book_average_rating</th>\n",
       "      <th>...</th>\n",
       "      <th>genre_1</th>\n",
       "      <th>genre_2</th>\n",
       "      <th>num_ratings</th>\n",
       "      <th>num_reviews</th>\n",
       "      <th>pages</th>\n",
       "      <th>publish_date</th>\n",
       "      <th>score</th>\n",
       "      <th>year</th>\n",
       "      <th>female_books_per_year</th>\n",
       "      <th>century</th>\n",
       "    </tr>\n",
       "  </thead>\n",
       "  <tbody>\n",
       "    <tr>\n",
       "      <th>0</th>\n",
       "      <td>3.75</td>\n",
       "      <td>female</td>\n",
       "      <td>young-adult,</td>\n",
       "      <td>6927274</td>\n",
       "      <td>Samantha Hastings\\n</td>\n",
       "      <td>/author/show/6927274.Samantha_Hastings</td>\n",
       "      <td>61</td>\n",
       "      <td>8</td>\n",
       "      <td>\\n   United States\\n</td>\n",
       "      <td>4.91</td>\n",
       "      <td>...</td>\n",
       "      <td>Young Adult</td>\n",
       "      <td>Historical</td>\n",
       "      <td>11</td>\n",
       "      <td>3</td>\n",
       "      <td>288</td>\n",
       "      <td>2019</td>\n",
       "      <td>289</td>\n",
       "      <td>2025</td>\n",
       "      <td>108.0</td>\n",
       "      <td>21 century AD</td>\n",
       "    </tr>\n",
       "    <tr>\n",
       "      <th>1</th>\n",
       "      <td>4.33</td>\n",
       "      <td>female</td>\n",
       "      <td>young-adult,</td>\n",
       "      <td>17688519</td>\n",
       "      <td>Danielle Stinson\\n</td>\n",
       "      <td>/author/show/17688519.Danielle_Stinson</td>\n",
       "      <td>12</td>\n",
       "      <td>5</td>\n",
       "      <td>\\n</td>\n",
       "      <td>4.33</td>\n",
       "      <td>...</td>\n",
       "      <td>Young Adult</td>\n",
       "      <td>Fantasy</td>\n",
       "      <td>12</td>\n",
       "      <td>5</td>\n",
       "      <td>320</td>\n",
       "      <td>2019</td>\n",
       "      <td>197</td>\n",
       "      <td>2025</td>\n",
       "      <td>108.0</td>\n",
       "      <td>21 century AD</td>\n",
       "    </tr>\n",
       "    <tr>\n",
       "      <th>2</th>\n",
       "      <td>4.11</td>\n",
       "      <td>female</td>\n",
       "      <td>fantasy,</td>\n",
       "      <td>8306309</td>\n",
       "      <td>Elise Kova\\n</td>\n",
       "      <td>/author/show/8306309.Elise_Kova</td>\n",
       "      <td>59332</td>\n",
       "      <td>6718</td>\n",
       "      <td>\\n   United States\\n</td>\n",
       "      <td>4.65</td>\n",
       "      <td>...</td>\n",
       "      <td>Fantasy</td>\n",
       "      <td>Young Adult</td>\n",
       "      <td>52</td>\n",
       "      <td>39</td>\n",
       "      <td>374</td>\n",
       "      <td>2019</td>\n",
       "      <td>1948</td>\n",
       "      <td>2025</td>\n",
       "      <td>108.0</td>\n",
       "      <td>21 century AD</td>\n",
       "    </tr>\n",
       "    <tr>\n",
       "      <th>3</th>\n",
       "      <td>4.61</td>\n",
       "      <td>female</td>\n",
       "      <td>fantasy,</td>\n",
       "      <td>16198480</td>\n",
       "      <td>K.A. Doore\\n</td>\n",
       "      <td>/author/show/16198480.K_A_Doore</td>\n",
       "      <td>54</td>\n",
       "      <td>44</td>\n",
       "      <td>\\n</td>\n",
       "      <td>4.60</td>\n",
       "      <td>...</td>\n",
       "      <td>Fantasy</td>\n",
       "      <td>Adult</td>\n",
       "      <td>53</td>\n",
       "      <td>43</td>\n",
       "      <td>352</td>\n",
       "      <td>2019</td>\n",
       "      <td>675</td>\n",
       "      <td>2025</td>\n",
       "      <td>108.0</td>\n",
       "      <td>21 century AD</td>\n",
       "    </tr>\n",
       "    <tr>\n",
       "      <th>4</th>\n",
       "      <td>4.08</td>\n",
       "      <td>male</td>\n",
       "      <td>science-fiction,</td>\n",
       "      <td>1155463</td>\n",
       "      <td>Mike Chen\\n</td>\n",
       "      <td>/author/show/1155463.Mike_Chen</td>\n",
       "      <td>207</td>\n",
       "      <td>125</td>\n",
       "      <td>\\n   United States\\n</td>\n",
       "      <td>4.07</td>\n",
       "      <td>...</td>\n",
       "      <td>Science Fiction</td>\n",
       "      <td>Science Fiction</td>\n",
       "      <td>204</td>\n",
       "      <td>123</td>\n",
       "      <td>336</td>\n",
       "      <td>2019</td>\n",
       "      <td>642</td>\n",
       "      <td>2025</td>\n",
       "      <td>NaN</td>\n",
       "      <td>21 century AD</td>\n",
       "    </tr>\n",
       "    <tr>\n",
       "      <th>...</th>\n",
       "      <td>...</td>\n",
       "      <td>...</td>\n",
       "      <td>...</td>\n",
       "      <td>...</td>\n",
       "      <td>...</td>\n",
       "      <td>...</td>\n",
       "      <td>...</td>\n",
       "      <td>...</td>\n",
       "      <td>...</td>\n",
       "      <td>...</td>\n",
       "      <td>...</td>\n",
       "      <td>...</td>\n",
       "      <td>...</td>\n",
       "      <td>...</td>\n",
       "      <td>...</td>\n",
       "      <td>...</td>\n",
       "      <td>...</td>\n",
       "      <td>...</td>\n",
       "      <td>...</td>\n",
       "      <td>...</td>\n",
       "      <td>...</td>\n",
       "    </tr>\n",
       "    <tr>\n",
       "      <th>22289</th>\n",
       "      <td>4.20</td>\n",
       "      <td>female</td>\n",
       "      <td>poetry,literature-fiction,</td>\n",
       "      <td>59712</td>\n",
       "      <td>Sappho\\n</td>\n",
       "      <td>/author/show/59712.Sappho</td>\n",
       "      <td>16688</td>\n",
       "      <td>1234</td>\n",
       "      <td>Greece\\n</td>\n",
       "      <td>4.39</td>\n",
       "      <td>...</td>\n",
       "      <td>Poetry</td>\n",
       "      <td>Classics</td>\n",
       "      <td>5903</td>\n",
       "      <td>467</td>\n",
       "      <td>397</td>\n",
       "      <td>-600</td>\n",
       "      <td>1952</td>\n",
       "      <td>-600</td>\n",
       "      <td>1.0</td>\n",
       "      <td>7 century BC</td>\n",
       "    </tr>\n",
       "    <tr>\n",
       "      <th>22290</th>\n",
       "      <td>3.79</td>\n",
       "      <td>male</td>\n",
       "      <td>poetry,mythology,</td>\n",
       "      <td>903</td>\n",
       "      <td>Homer\\n</td>\n",
       "      <td>/author/show/903.Homer</td>\n",
       "      <td>1168891</td>\n",
       "      <td>17892</td>\n",
       "      <td>\\n  Greece\\n</td>\n",
       "      <td>3.75</td>\n",
       "      <td>...</td>\n",
       "      <td>Classics</td>\n",
       "      <td>Fiction</td>\n",
       "      <td>781807</td>\n",
       "      <td>10329</td>\n",
       "      <td>541</td>\n",
       "      <td>-720</td>\n",
       "      <td>2874</td>\n",
       "      <td>-720</td>\n",
       "      <td>NaN</td>\n",
       "      <td>8 century BC</td>\n",
       "    </tr>\n",
       "    <tr>\n",
       "      <th>22291</th>\n",
       "      <td>3.79</td>\n",
       "      <td>male</td>\n",
       "      <td>poetry,mythology,</td>\n",
       "      <td>903</td>\n",
       "      <td>Homer\\n</td>\n",
       "      <td>/author/show/903.Homer</td>\n",
       "      <td>1168672</td>\n",
       "      <td>17884</td>\n",
       "      <td>\\n  Greece\\n</td>\n",
       "      <td>3.84</td>\n",
       "      <td>...</td>\n",
       "      <td>Classics</td>\n",
       "      <td>Poetry</td>\n",
       "      <td>309209</td>\n",
       "      <td>5745</td>\n",
       "      <td>683</td>\n",
       "      <td>-720</td>\n",
       "      <td>4040</td>\n",
       "      <td>-720</td>\n",
       "      <td>NaN</td>\n",
       "      <td>8 century BC</td>\n",
       "    </tr>\n",
       "    <tr>\n",
       "      <th>22292</th>\n",
       "      <td>3.79</td>\n",
       "      <td>male</td>\n",
       "      <td>poetry,mythology,</td>\n",
       "      <td>903</td>\n",
       "      <td>Homer\\n</td>\n",
       "      <td>/author/show/903.Homer</td>\n",
       "      <td>1168819</td>\n",
       "      <td>17891</td>\n",
       "      <td>\\n  Greece\\n</td>\n",
       "      <td>3.75</td>\n",
       "      <td>...</td>\n",
       "      <td>Classics</td>\n",
       "      <td>Fiction</td>\n",
       "      <td>781786</td>\n",
       "      <td>10328</td>\n",
       "      <td>541</td>\n",
       "      <td>-720</td>\n",
       "      <td>12029</td>\n",
       "      <td>-720</td>\n",
       "      <td>NaN</td>\n",
       "      <td>8 century BC</td>\n",
       "    </tr>\n",
       "    <tr>\n",
       "      <th>22293</th>\n",
       "      <td>3.79</td>\n",
       "      <td>male</td>\n",
       "      <td>poetry,mythology,</td>\n",
       "      <td>903</td>\n",
       "      <td>Homer\\n</td>\n",
       "      <td>/author/show/903.Homer</td>\n",
       "      <td>1169240</td>\n",
       "      <td>17927</td>\n",
       "      <td>\\n  Greece\\n</td>\n",
       "      <td>3.84</td>\n",
       "      <td>...</td>\n",
       "      <td>Classics</td>\n",
       "      <td>Poetry</td>\n",
       "      <td>309364</td>\n",
       "      <td>5750</td>\n",
       "      <td>683</td>\n",
       "      <td>-720</td>\n",
       "      <td>3400</td>\n",
       "      <td>-720</td>\n",
       "      <td>NaN</td>\n",
       "      <td>8 century BC</td>\n",
       "    </tr>\n",
       "  </tbody>\n",
       "</table>\n",
       "<p>22294 rows × 23 columns</p>\n",
       "</div>"
      ],
      "text/plain": [
       "       author_average_rating author_gender               author_genres  \\\n",
       "0                       3.75        female                young-adult,   \n",
       "1                       4.33        female                young-adult,   \n",
       "2                       4.11        female                    fantasy,   \n",
       "3                       4.61        female                    fantasy,   \n",
       "4                       4.08          male            science-fiction,   \n",
       "...                      ...           ...                         ...   \n",
       "22289                   4.20        female  poetry,literature-fiction,   \n",
       "22290                   3.79          male           poetry,mythology,   \n",
       "22291                   3.79          male           poetry,mythology,   \n",
       "22292                   3.79          male           poetry,mythology,   \n",
       "22293                   3.79          male           poetry,mythology,   \n",
       "\n",
       "       author_id          author_name                         author_page_url  \\\n",
       "0        6927274  Samantha Hastings\\n  /author/show/6927274.Samantha_Hastings   \n",
       "1       17688519   Danielle Stinson\\n  /author/show/17688519.Danielle_Stinson   \n",
       "2        8306309         Elise Kova\\n         /author/show/8306309.Elise_Kova   \n",
       "3       16198480         K.A. Doore\\n         /author/show/16198480.K_A_Doore   \n",
       "4        1155463          Mike Chen\\n          /author/show/1155463.Mike_Chen   \n",
       "...          ...                  ...                                     ...   \n",
       "22289      59712             Sappho\\n               /author/show/59712.Sappho   \n",
       "22290        903              Homer\\n                  /author/show/903.Homer   \n",
       "22291        903              Homer\\n                  /author/show/903.Homer   \n",
       "22292        903              Homer\\n                  /author/show/903.Homer   \n",
       "22293        903              Homer\\n                  /author/show/903.Homer   \n",
       "\n",
       "       author_rating_count  author_review_count              birthplace  \\\n",
       "0                       61                    8  \\n   United States\\n     \n",
       "1                       12                    5                    \\n     \n",
       "2                    59332                 6718  \\n   United States\\n     \n",
       "3                       54                   44                    \\n     \n",
       "4                      207                  125  \\n   United States\\n     \n",
       "...                    ...                  ...                     ...   \n",
       "22289                16688                 1234            Greece\\n       \n",
       "22290              1168891                17892          \\n  Greece\\n     \n",
       "22291              1168672                17884          \\n  Greece\\n     \n",
       "22292              1168819                17891          \\n  Greece\\n     \n",
       "22293              1169240                17927          \\n  Greece\\n     \n",
       "\n",
       "       book_average_rating  ...          genre_1          genre_2 num_ratings  \\\n",
       "0                     4.91  ...      Young Adult       Historical          11   \n",
       "1                     4.33  ...      Young Adult          Fantasy          12   \n",
       "2                     4.65  ...          Fantasy      Young Adult          52   \n",
       "3                     4.60  ...          Fantasy            Adult          53   \n",
       "4                     4.07  ...  Science Fiction  Science Fiction         204   \n",
       "...                    ...  ...              ...              ...         ...   \n",
       "22289                 4.39  ...           Poetry         Classics        5903   \n",
       "22290                 3.75  ...         Classics          Fiction      781807   \n",
       "22291                 3.84  ...         Classics           Poetry      309209   \n",
       "22292                 3.75  ...         Classics          Fiction      781786   \n",
       "22293                 3.84  ...         Classics           Poetry      309364   \n",
       "\n",
       "      num_reviews pages  publish_date  score  year female_books_per_year  \\\n",
       "0               3   288          2019    289  2025                 108.0   \n",
       "1               5   320          2019    197  2025                 108.0   \n",
       "2              39   374          2019   1948  2025                 108.0   \n",
       "3              43   352          2019    675  2025                 108.0   \n",
       "4             123   336          2019    642  2025                   NaN   \n",
       "...           ...   ...           ...    ...   ...                   ...   \n",
       "22289         467   397          -600   1952  -600                   1.0   \n",
       "22290       10329   541          -720   2874  -720                   NaN   \n",
       "22291        5745   683          -720   4040  -720                   NaN   \n",
       "22292       10328   541          -720  12029  -720                   NaN   \n",
       "22293        5750   683          -720   3400  -720                   NaN   \n",
       "\n",
       "             century  \n",
       "0      21 century AD  \n",
       "1      21 century AD  \n",
       "2      21 century AD  \n",
       "3      21 century AD  \n",
       "4      21 century AD  \n",
       "...              ...  \n",
       "22289   7 century BC  \n",
       "22290   8 century BC  \n",
       "22291   8 century BC  \n",
       "22292   8 century BC  \n",
       "22293   8 century BC  \n",
       "\n",
       "[22294 rows x 23 columns]"
      ]
     },
     "execution_count": 8,
     "metadata": {},
     "output_type": "execute_result"
    }
   ],
   "source": [
    "df = pd.read_csv(\"books_cleaned.csv\")\n",
    "df"
   ]
  },
  {
   "cell_type": "code",
   "execution_count": 9,
   "id": "9fabfdb1-2ae1-4a9a-b006-61a5497bf096",
   "metadata": {},
   "outputs": [
    {
     "name": "stdout",
     "output_type": "stream",
     "text": [
      "   publish_date  year\n",
      "0          2019  2019\n",
      "1          2019  2019\n",
      "2          2019  2019\n",
      "3          2019  2019\n",
      "4          2019  2019\n",
      "5          2019  2019\n",
      "6          2019  2019\n",
      "7          2019  2019\n",
      "8          2019  2019\n",
      "9          2019  2019\n",
      "10         2019  2019\n",
      "11         2019  2019\n",
      "12         2019  2019\n",
      "13         2019  2019\n",
      "14         2019  2019\n",
      "15         2019  2019\n",
      "16         2019  2019\n",
      "17         2019  2019\n",
      "18         2019  2019\n",
      "19         2019  2019\n"
     ]
    }
   ],
   "source": [
    "import re\n",
    "\n",
    "def convert_publish_date(date):\n",
    "    if pd.isna(date):  # Handle missing values\n",
    "        return None\n",
    "    \n",
    "    date = str(date).strip()  # Convert to string and remove spaces\n",
    "\n",
    "    # Case 1: If it's a BC year (e.g., \"-720\"), return it directly as an integer\n",
    "    if re.match(r'^-\\d+$', date):  \n",
    "        return int(date)\n",
    "\n",
    "    # Case 2: If it's a full date (e.g., \"April 15th 1988\"), extract the year\n",
    "    try:\n",
    "        return parser.parse(date).year  \n",
    "    except:\n",
    "        return None  # If conversion fails, return None\n",
    "\n",
    "# Apply function and use Int64 dtype\n",
    "df['year'] = df['publish_date'].apply(convert_publish_date).astype('Int64')\n",
    "\n",
    "# Check results\n",
    "print(df[['publish_date', 'year']].head(20))"
   ]
  },
  {
   "cell_type": "code",
   "execution_count": 14,
   "id": "994045a4-f9ec-4935-8305-fa3b7240302d",
   "metadata": {},
   "outputs": [],
   "source": [
    "df = df.dropna(subset=['year'])\n",
    "\n",
    "# Convert 'year' to integer\n",
    "df['year'] = df['year'].astype(int)\n",
    "\n",
    "# Sort by year\n",
    "df = df.sort_values(by='year', ascending=True)"
   ]
  },
  {
   "cell_type": "code",
   "execution_count": 16,
   "id": "b30107d1-7ff5-4175-b412-c44a74463105",
   "metadata": {},
   "outputs": [
    {
     "data": {
      "application/vnd.plotly.v1+json": {
       "config": {
        "plotlyServerURL": "https://plot.ly"
       },
       "data": [
        {
         "line": {
          "color": "red"
         },
         "mode": "lines+markers",
         "name": "Female Authors",
         "type": "scatter",
         "x": [
          1900,
          1901,
          1902,
          1903,
          1905,
          1906,
          1908,
          1909,
          1911,
          1912,
          1913,
          1915,
          1916,
          1917,
          1918,
          1919,
          1920,
          1921,
          1922,
          1923,
          1924,
          1925,
          1926,
          1927,
          1928,
          1929,
          1930,
          1931,
          1932,
          1933,
          1934,
          1935,
          1936,
          1937,
          1938,
          1939,
          1940,
          1941,
          1942,
          1943,
          1944,
          1945,
          1946,
          1947,
          1948,
          1949,
          1950,
          1951,
          1952,
          1953,
          1954,
          1955,
          1956,
          1957,
          1958,
          1959,
          1960,
          1961,
          1962,
          1963,
          1964,
          1965,
          1966,
          1967,
          1968,
          1969,
          1970,
          1971,
          1972,
          1973,
          1974,
          1975,
          1976,
          1977,
          1978,
          1979,
          1980,
          1981,
          1982,
          1983,
          1984,
          1985,
          1986,
          1987,
          1988,
          1989,
          1990,
          1991,
          1992,
          1993,
          1994,
          1995,
          1996,
          1997,
          1998,
          1999,
          2000,
          2001,
          2002,
          2003,
          2004,
          2005,
          2006,
          2007,
          2008,
          2009,
          2010,
          2011,
          2012,
          2013,
          2014,
          2015,
          2016,
          2017,
          2018,
          2019
         ],
         "y": [
          3,
          3,
          6,
          1,
          6,
          1,
          7,
          1,
          4,
          1,
          1,
          1,
          1,
          1,
          4,
          1,
          4,
          1,
          10,
          4,
          1,
          1,
          4,
          4,
          2,
          1,
          7,
          6,
          3,
          1,
          6,
          8,
          7,
          11,
          9,
          3,
          5,
          1,
          19,
          13,
          9,
          7,
          2,
          10,
          11,
          11,
          3,
          5,
          4,
          5,
          7,
          7,
          5,
          8,
          6,
          8,
          16,
          6,
          15,
          19,
          9,
          7,
          11,
          19,
          7,
          14,
          13,
          16,
          19,
          19,
          13,
          17,
          22,
          17,
          35,
          13,
          23,
          30,
          30,
          19,
          35,
          22,
          27,
          40,
          19,
          46,
          35,
          37,
          58,
          43,
          50,
          56,
          57,
          73,
          70,
          76,
          78,
          96,
          101,
          117,
          114,
          161,
          223,
          191,
          307,
          412,
          553,
          833,
          1167,
          1627,
          1111,
          640,
          429,
          239,
          437,
          138
         ]
        },
        {
         "line": {
          "color": "blue"
         },
         "mode": "lines+markers",
         "name": "Male Authors",
         "type": "scatter",
         "x": [
          1900,
          1901,
          1902,
          1903,
          1904,
          1905,
          1906,
          1907,
          1908,
          1909,
          1910,
          1911,
          1912,
          1913,
          1914,
          1915,
          1916,
          1917,
          1918,
          1919,
          1920,
          1921,
          1922,
          1923,
          1924,
          1925,
          1926,
          1927,
          1928,
          1929,
          1930,
          1931,
          1932,
          1933,
          1934,
          1935,
          1936,
          1937,
          1938,
          1939,
          1940,
          1941,
          1942,
          1943,
          1944,
          1945,
          1946,
          1947,
          1948,
          1949,
          1950,
          1951,
          1952,
          1953,
          1954,
          1955,
          1956,
          1957,
          1958,
          1959,
          1960,
          1961,
          1962,
          1963,
          1964,
          1965,
          1966,
          1967,
          1968,
          1969,
          1970,
          1971,
          1972,
          1973,
          1974,
          1975,
          1976,
          1977,
          1978,
          1979,
          1980,
          1981,
          1982,
          1983,
          1984,
          1985,
          1986,
          1987,
          1988,
          1989,
          1990,
          1991,
          1992,
          1993,
          1994,
          1995,
          1996,
          1997,
          1998,
          1999,
          2000,
          2001,
          2002,
          2003,
          2004,
          2005,
          2006,
          2007,
          2008,
          2009,
          2010,
          2011,
          2012,
          2013,
          2014,
          2015,
          2016,
          2017,
          2018,
          2019
         ],
         "y": [
          15,
          3,
          12,
          9,
          15,
          5,
          11,
          5,
          16,
          2,
          5,
          4,
          4,
          5,
          6,
          7,
          9,
          2,
          12,
          7,
          3,
          11,
          10,
          8,
          8,
          11,
          16,
          21,
          9,
          22,
          19,
          9,
          18,
          10,
          26,
          11,
          14,
          18,
          11,
          20,
          21,
          16,
          9,
          8,
          12,
          22,
          24,
          27,
          26,
          16,
          19,
          17,
          32,
          32,
          31,
          39,
          31,
          25,
          42,
          36,
          30,
          37,
          34,
          32,
          30,
          28,
          33,
          34,
          41,
          41,
          51,
          48,
          48,
          59,
          52,
          51,
          44,
          55,
          48,
          58,
          58,
          45,
          56,
          57,
          61,
          60,
          66,
          73,
          75,
          70,
          74,
          77,
          111,
          88,
          107,
          125,
          96,
          118,
          122,
          115,
          141,
          151,
          165,
          201,
          229,
          216,
          289,
          327,
          382,
          373,
          496,
          764,
          975,
          1061,
          822,
          483,
          348,
          226,
          175,
          52
         ]
        }
       ],
       "layout": {
        "annotations": [
         {
          "arrowhead": 2,
          "font": {
           "color": "red"
          },
          "showarrow": true,
          "text": "J.K. Rowling",
          "textangle": -45,
          "x": 1997,
          "y": 1301.6000000000001,
          "yshift": 20
         },
         {
          "arrowhead": 2,
          "font": {
           "color": "red"
          },
          "showarrow": true,
          "text": "Virginia Woolf",
          "textangle": -45,
          "x": 1925,
          "y": 1301.6000000000001,
          "yshift": 20
         },
         {
          "arrowhead": 2,
          "font": {
           "color": "red"
          },
          "showarrow": true,
          "text": "Agatha Christie",
          "textangle": -45,
          "x": 1920,
          "y": 1301.6000000000001,
          "yshift": 20
         },
         {
          "arrowhead": 2,
          "font": {
           "color": "red"
          },
          "showarrow": true,
          "text": "Harper Lee",
          "textangle": -45,
          "x": 1960,
          "y": 1301.6000000000001,
          "yshift": 20
         },
         {
          "arrowhead": 2,
          "font": {
           "color": "red"
          },
          "showarrow": true,
          "text": "Toni Morrison",
          "textangle": -45,
          "x": 1970,
          "y": 1301.6000000000001,
          "yshift": 20
         },
         {
          "arrowhead": 2,
          "font": {
           "color": "red"
          },
          "showarrow": true,
          "text": "Margaret Atwood",
          "textangle": -45,
          "x": 1985,
          "y": 1301.6000000000001,
          "yshift": 20
         },
         {
          "arrowhead": 2,
          "font": {
           "color": "red"
          },
          "showarrow": true,
          "text": "Suzanne Collins",
          "textangle": -45,
          "x": 2008,
          "y": 1301.6000000000001,
          "yshift": 20
         },
         {
          "arrowhead": 2,
          "font": {
           "color": "blue"
          },
          "showarrow": true,
          "text": "F. Scott Fitzgerald",
          "textangle": -45,
          "x": 1925,
          "y": 848.8000000000001,
          "yshift": 20
         },
         {
          "arrowhead": 2,
          "font": {
           "color": "blue"
          },
          "showarrow": true,
          "text": "J.R.R. Tolkien",
          "textangle": -45,
          "x": 1954,
          "y": 848.8000000000001,
          "yshift": 20
         },
         {
          "arrowhead": 2,
          "font": {
           "color": "blue"
          },
          "showarrow": true,
          "text": "George Orwell",
          "textangle": -45,
          "x": 1949,
          "y": 848.8000000000001,
          "yshift": 20
         },
         {
          "arrowhead": 2,
          "font": {
           "color": "blue"
          },
          "showarrow": true,
          "text": "Stephen King",
          "textangle": -45,
          "x": 1974,
          "y": 848.8000000000001,
          "yshift": 20
         },
         {
          "arrowhead": 2,
          "font": {
           "color": "blue"
          },
          "showarrow": true,
          "text": "Haruki Murakami",
          "textangle": -45,
          "x": 1987,
          "y": 848.8000000000001,
          "yshift": 20
         },
         {
          "arrowhead": 2,
          "font": {
           "color": "blue"
          },
          "showarrow": true,
          "text": "Philip K. Dick",
          "textangle": -45,
          "x": 1968,
          "y": 848.8000000000001,
          "yshift": 20
         }
        ],
        "height": 700,
        "legend": {
         "x": 0.02,
         "y": 0.98
        },
        "shapes": [
         {
          "line": {
           "color": "red",
           "dash": "dash",
           "width": 2
          },
          "type": "line",
          "x0": 1997,
          "x1": 1997,
          "xref": "x",
          "y0": 0,
          "y1": 1,
          "yref": "y domain"
         },
         {
          "line": {
           "color": "red",
           "dash": "dash",
           "width": 2
          },
          "type": "line",
          "x0": 1925,
          "x1": 1925,
          "xref": "x",
          "y0": 0,
          "y1": 1,
          "yref": "y domain"
         },
         {
          "line": {
           "color": "red",
           "dash": "dash",
           "width": 2
          },
          "type": "line",
          "x0": 1920,
          "x1": 1920,
          "xref": "x",
          "y0": 0,
          "y1": 1,
          "yref": "y domain"
         },
         {
          "line": {
           "color": "red",
           "dash": "dash",
           "width": 2
          },
          "type": "line",
          "x0": 1960,
          "x1": 1960,
          "xref": "x",
          "y0": 0,
          "y1": 1,
          "yref": "y domain"
         },
         {
          "line": {
           "color": "red",
           "dash": "dash",
           "width": 2
          },
          "type": "line",
          "x0": 1970,
          "x1": 1970,
          "xref": "x",
          "y0": 0,
          "y1": 1,
          "yref": "y domain"
         },
         {
          "line": {
           "color": "red",
           "dash": "dash",
           "width": 2
          },
          "type": "line",
          "x0": 1985,
          "x1": 1985,
          "xref": "x",
          "y0": 0,
          "y1": 1,
          "yref": "y domain"
         },
         {
          "line": {
           "color": "red",
           "dash": "dash",
           "width": 2
          },
          "type": "line",
          "x0": 2008,
          "x1": 2008,
          "xref": "x",
          "y0": 0,
          "y1": 1,
          "yref": "y domain"
         },
         {
          "line": {
           "color": "blue",
           "dash": "dash",
           "width": 2
          },
          "type": "line",
          "x0": 1925,
          "x1": 1925,
          "xref": "x",
          "y0": 0,
          "y1": 1,
          "yref": "y domain"
         },
         {
          "line": {
           "color": "blue",
           "dash": "dash",
           "width": 2
          },
          "type": "line",
          "x0": 1954,
          "x1": 1954,
          "xref": "x",
          "y0": 0,
          "y1": 1,
          "yref": "y domain"
         },
         {
          "line": {
           "color": "blue",
           "dash": "dash",
           "width": 2
          },
          "type": "line",
          "x0": 1949,
          "x1": 1949,
          "xref": "x",
          "y0": 0,
          "y1": 1,
          "yref": "y domain"
         },
         {
          "line": {
           "color": "blue",
           "dash": "dash",
           "width": 2
          },
          "type": "line",
          "x0": 1974,
          "x1": 1974,
          "xref": "x",
          "y0": 0,
          "y1": 1,
          "yref": "y domain"
         },
         {
          "line": {
           "color": "blue",
           "dash": "dash",
           "width": 2
          },
          "type": "line",
          "x0": 1987,
          "x1": 1987,
          "xref": "x",
          "y0": 0,
          "y1": 1,
          "yref": "y domain"
         },
         {
          "line": {
           "color": "blue",
           "dash": "dash",
           "width": 2
          },
          "type": "line",
          "x0": 1968,
          "x1": 1968,
          "xref": "x",
          "y0": 0,
          "y1": 1,
          "yref": "y domain"
         }
        ],
        "template": {
         "data": {
          "bar": [
           {
            "error_x": {
             "color": "#2a3f5f"
            },
            "error_y": {
             "color": "#2a3f5f"
            },
            "marker": {
             "line": {
              "color": "#E5ECF6",
              "width": 0.5
             },
             "pattern": {
              "fillmode": "overlay",
              "size": 10,
              "solidity": 0.2
             }
            },
            "type": "bar"
           }
          ],
          "barpolar": [
           {
            "marker": {
             "line": {
              "color": "#E5ECF6",
              "width": 0.5
             },
             "pattern": {
              "fillmode": "overlay",
              "size": 10,
              "solidity": 0.2
             }
            },
            "type": "barpolar"
           }
          ],
          "carpet": [
           {
            "aaxis": {
             "endlinecolor": "#2a3f5f",
             "gridcolor": "white",
             "linecolor": "white",
             "minorgridcolor": "white",
             "startlinecolor": "#2a3f5f"
            },
            "baxis": {
             "endlinecolor": "#2a3f5f",
             "gridcolor": "white",
             "linecolor": "white",
             "minorgridcolor": "white",
             "startlinecolor": "#2a3f5f"
            },
            "type": "carpet"
           }
          ],
          "choropleth": [
           {
            "colorbar": {
             "outlinewidth": 0,
             "ticks": ""
            },
            "type": "choropleth"
           }
          ],
          "contour": [
           {
            "colorbar": {
             "outlinewidth": 0,
             "ticks": ""
            },
            "colorscale": [
             [
              0,
              "#0d0887"
             ],
             [
              0.1111111111111111,
              "#46039f"
             ],
             [
              0.2222222222222222,
              "#7201a8"
             ],
             [
              0.3333333333333333,
              "#9c179e"
             ],
             [
              0.4444444444444444,
              "#bd3786"
             ],
             [
              0.5555555555555556,
              "#d8576b"
             ],
             [
              0.6666666666666666,
              "#ed7953"
             ],
             [
              0.7777777777777778,
              "#fb9f3a"
             ],
             [
              0.8888888888888888,
              "#fdca26"
             ],
             [
              1,
              "#f0f921"
             ]
            ],
            "type": "contour"
           }
          ],
          "contourcarpet": [
           {
            "colorbar": {
             "outlinewidth": 0,
             "ticks": ""
            },
            "type": "contourcarpet"
           }
          ],
          "heatmap": [
           {
            "colorbar": {
             "outlinewidth": 0,
             "ticks": ""
            },
            "colorscale": [
             [
              0,
              "#0d0887"
             ],
             [
              0.1111111111111111,
              "#46039f"
             ],
             [
              0.2222222222222222,
              "#7201a8"
             ],
             [
              0.3333333333333333,
              "#9c179e"
             ],
             [
              0.4444444444444444,
              "#bd3786"
             ],
             [
              0.5555555555555556,
              "#d8576b"
             ],
             [
              0.6666666666666666,
              "#ed7953"
             ],
             [
              0.7777777777777778,
              "#fb9f3a"
             ],
             [
              0.8888888888888888,
              "#fdca26"
             ],
             [
              1,
              "#f0f921"
             ]
            ],
            "type": "heatmap"
           }
          ],
          "heatmapgl": [
           {
            "colorbar": {
             "outlinewidth": 0,
             "ticks": ""
            },
            "colorscale": [
             [
              0,
              "#0d0887"
             ],
             [
              0.1111111111111111,
              "#46039f"
             ],
             [
              0.2222222222222222,
              "#7201a8"
             ],
             [
              0.3333333333333333,
              "#9c179e"
             ],
             [
              0.4444444444444444,
              "#bd3786"
             ],
             [
              0.5555555555555556,
              "#d8576b"
             ],
             [
              0.6666666666666666,
              "#ed7953"
             ],
             [
              0.7777777777777778,
              "#fb9f3a"
             ],
             [
              0.8888888888888888,
              "#fdca26"
             ],
             [
              1,
              "#f0f921"
             ]
            ],
            "type": "heatmapgl"
           }
          ],
          "histogram": [
           {
            "marker": {
             "pattern": {
              "fillmode": "overlay",
              "size": 10,
              "solidity": 0.2
             }
            },
            "type": "histogram"
           }
          ],
          "histogram2d": [
           {
            "colorbar": {
             "outlinewidth": 0,
             "ticks": ""
            },
            "colorscale": [
             [
              0,
              "#0d0887"
             ],
             [
              0.1111111111111111,
              "#46039f"
             ],
             [
              0.2222222222222222,
              "#7201a8"
             ],
             [
              0.3333333333333333,
              "#9c179e"
             ],
             [
              0.4444444444444444,
              "#bd3786"
             ],
             [
              0.5555555555555556,
              "#d8576b"
             ],
             [
              0.6666666666666666,
              "#ed7953"
             ],
             [
              0.7777777777777778,
              "#fb9f3a"
             ],
             [
              0.8888888888888888,
              "#fdca26"
             ],
             [
              1,
              "#f0f921"
             ]
            ],
            "type": "histogram2d"
           }
          ],
          "histogram2dcontour": [
           {
            "colorbar": {
             "outlinewidth": 0,
             "ticks": ""
            },
            "colorscale": [
             [
              0,
              "#0d0887"
             ],
             [
              0.1111111111111111,
              "#46039f"
             ],
             [
              0.2222222222222222,
              "#7201a8"
             ],
             [
              0.3333333333333333,
              "#9c179e"
             ],
             [
              0.4444444444444444,
              "#bd3786"
             ],
             [
              0.5555555555555556,
              "#d8576b"
             ],
             [
              0.6666666666666666,
              "#ed7953"
             ],
             [
              0.7777777777777778,
              "#fb9f3a"
             ],
             [
              0.8888888888888888,
              "#fdca26"
             ],
             [
              1,
              "#f0f921"
             ]
            ],
            "type": "histogram2dcontour"
           }
          ],
          "mesh3d": [
           {
            "colorbar": {
             "outlinewidth": 0,
             "ticks": ""
            },
            "type": "mesh3d"
           }
          ],
          "parcoords": [
           {
            "line": {
             "colorbar": {
              "outlinewidth": 0,
              "ticks": ""
             }
            },
            "type": "parcoords"
           }
          ],
          "pie": [
           {
            "automargin": true,
            "type": "pie"
           }
          ],
          "scatter": [
           {
            "fillpattern": {
             "fillmode": "overlay",
             "size": 10,
             "solidity": 0.2
            },
            "type": "scatter"
           }
          ],
          "scatter3d": [
           {
            "line": {
             "colorbar": {
              "outlinewidth": 0,
              "ticks": ""
             }
            },
            "marker": {
             "colorbar": {
              "outlinewidth": 0,
              "ticks": ""
             }
            },
            "type": "scatter3d"
           }
          ],
          "scattercarpet": [
           {
            "marker": {
             "colorbar": {
              "outlinewidth": 0,
              "ticks": ""
             }
            },
            "type": "scattercarpet"
           }
          ],
          "scattergeo": [
           {
            "marker": {
             "colorbar": {
              "outlinewidth": 0,
              "ticks": ""
             }
            },
            "type": "scattergeo"
           }
          ],
          "scattergl": [
           {
            "marker": {
             "colorbar": {
              "outlinewidth": 0,
              "ticks": ""
             }
            },
            "type": "scattergl"
           }
          ],
          "scattermapbox": [
           {
            "marker": {
             "colorbar": {
              "outlinewidth": 0,
              "ticks": ""
             }
            },
            "type": "scattermapbox"
           }
          ],
          "scatterpolar": [
           {
            "marker": {
             "colorbar": {
              "outlinewidth": 0,
              "ticks": ""
             }
            },
            "type": "scatterpolar"
           }
          ],
          "scatterpolargl": [
           {
            "marker": {
             "colorbar": {
              "outlinewidth": 0,
              "ticks": ""
             }
            },
            "type": "scatterpolargl"
           }
          ],
          "scatterternary": [
           {
            "marker": {
             "colorbar": {
              "outlinewidth": 0,
              "ticks": ""
             }
            },
            "type": "scatterternary"
           }
          ],
          "surface": [
           {
            "colorbar": {
             "outlinewidth": 0,
             "ticks": ""
            },
            "colorscale": [
             [
              0,
              "#0d0887"
             ],
             [
              0.1111111111111111,
              "#46039f"
             ],
             [
              0.2222222222222222,
              "#7201a8"
             ],
             [
              0.3333333333333333,
              "#9c179e"
             ],
             [
              0.4444444444444444,
              "#bd3786"
             ],
             [
              0.5555555555555556,
              "#d8576b"
             ],
             [
              0.6666666666666666,
              "#ed7953"
             ],
             [
              0.7777777777777778,
              "#fb9f3a"
             ],
             [
              0.8888888888888888,
              "#fdca26"
             ],
             [
              1,
              "#f0f921"
             ]
            ],
            "type": "surface"
           }
          ],
          "table": [
           {
            "cells": {
             "fill": {
              "color": "#EBF0F8"
             },
             "line": {
              "color": "white"
             }
            },
            "header": {
             "fill": {
              "color": "#C8D4E3"
             },
             "line": {
              "color": "white"
             }
            },
            "type": "table"
           }
          ]
         },
         "layout": {
          "annotationdefaults": {
           "arrowcolor": "#2a3f5f",
           "arrowhead": 0,
           "arrowwidth": 1
          },
          "autotypenumbers": "strict",
          "coloraxis": {
           "colorbar": {
            "outlinewidth": 0,
            "ticks": ""
           }
          },
          "colorscale": {
           "diverging": [
            [
             0,
             "#8e0152"
            ],
            [
             0.1,
             "#c51b7d"
            ],
            [
             0.2,
             "#de77ae"
            ],
            [
             0.3,
             "#f1b6da"
            ],
            [
             0.4,
             "#fde0ef"
            ],
            [
             0.5,
             "#f7f7f7"
            ],
            [
             0.6,
             "#e6f5d0"
            ],
            [
             0.7,
             "#b8e186"
            ],
            [
             0.8,
             "#7fbc41"
            ],
            [
             0.9,
             "#4d9221"
            ],
            [
             1,
             "#276419"
            ]
           ],
           "sequential": [
            [
             0,
             "#0d0887"
            ],
            [
             0.1111111111111111,
             "#46039f"
            ],
            [
             0.2222222222222222,
             "#7201a8"
            ],
            [
             0.3333333333333333,
             "#9c179e"
            ],
            [
             0.4444444444444444,
             "#bd3786"
            ],
            [
             0.5555555555555556,
             "#d8576b"
            ],
            [
             0.6666666666666666,
             "#ed7953"
            ],
            [
             0.7777777777777778,
             "#fb9f3a"
            ],
            [
             0.8888888888888888,
             "#fdca26"
            ],
            [
             1,
             "#f0f921"
            ]
           ],
           "sequentialminus": [
            [
             0,
             "#0d0887"
            ],
            [
             0.1111111111111111,
             "#46039f"
            ],
            [
             0.2222222222222222,
             "#7201a8"
            ],
            [
             0.3333333333333333,
             "#9c179e"
            ],
            [
             0.4444444444444444,
             "#bd3786"
            ],
            [
             0.5555555555555556,
             "#d8576b"
            ],
            [
             0.6666666666666666,
             "#ed7953"
            ],
            [
             0.7777777777777778,
             "#fb9f3a"
            ],
            [
             0.8888888888888888,
             "#fdca26"
            ],
            [
             1,
             "#f0f921"
            ]
           ]
          },
          "colorway": [
           "#636efa",
           "#EF553B",
           "#00cc96",
           "#ab63fa",
           "#FFA15A",
           "#19d3f3",
           "#FF6692",
           "#B6E880",
           "#FF97FF",
           "#FECB52"
          ],
          "font": {
           "color": "#2a3f5f"
          },
          "geo": {
           "bgcolor": "white",
           "lakecolor": "white",
           "landcolor": "#E5ECF6",
           "showlakes": true,
           "showland": true,
           "subunitcolor": "white"
          },
          "hoverlabel": {
           "align": "left"
          },
          "hovermode": "closest",
          "mapbox": {
           "style": "light"
          },
          "paper_bgcolor": "white",
          "plot_bgcolor": "#E5ECF6",
          "polar": {
           "angularaxis": {
            "gridcolor": "white",
            "linecolor": "white",
            "ticks": ""
           },
           "bgcolor": "#E5ECF6",
           "radialaxis": {
            "gridcolor": "white",
            "linecolor": "white",
            "ticks": ""
           }
          },
          "scene": {
           "xaxis": {
            "backgroundcolor": "#E5ECF6",
            "gridcolor": "white",
            "gridwidth": 2,
            "linecolor": "white",
            "showbackground": true,
            "ticks": "",
            "zerolinecolor": "white"
           },
           "yaxis": {
            "backgroundcolor": "#E5ECF6",
            "gridcolor": "white",
            "gridwidth": 2,
            "linecolor": "white",
            "showbackground": true,
            "ticks": "",
            "zerolinecolor": "white"
           },
           "zaxis": {
            "backgroundcolor": "#E5ECF6",
            "gridcolor": "white",
            "gridwidth": 2,
            "linecolor": "white",
            "showbackground": true,
            "ticks": "",
            "zerolinecolor": "white"
           }
          },
          "shapedefaults": {
           "line": {
            "color": "#2a3f5f"
           }
          },
          "ternary": {
           "aaxis": {
            "gridcolor": "white",
            "linecolor": "white",
            "ticks": ""
           },
           "baxis": {
            "gridcolor": "white",
            "linecolor": "white",
            "ticks": ""
           },
           "bgcolor": "#E5ECF6",
           "caxis": {
            "gridcolor": "white",
            "linecolor": "white",
            "ticks": ""
           }
          },
          "title": {
           "x": 0.05
          },
          "xaxis": {
           "automargin": true,
           "gridcolor": "white",
           "linecolor": "white",
           "ticks": "",
           "title": {
            "standoff": 15
           },
           "zerolinecolor": "white",
           "zerolinewidth": 2
          },
          "yaxis": {
           "automargin": true,
           "gridcolor": "white",
           "linecolor": "white",
           "ticks": "",
           "title": {
            "standoff": 15
           },
           "zerolinecolor": "white",
           "zerolinewidth": 2
          }
         }
        },
        "title": {
         "text": "Number of Books by Male & Female Authors From The 20th Century"
        },
        "width": 1200,
        "xaxis": {
         "dtick": 5,
         "range": [
          1900,
          2019
         ],
         "type": "linear"
        },
        "yaxis": {
         "dtick": 100,
         "range": [
          -50,
          1700
         ],
         "type": "linear"
        }
       }
      },
      "image/png": "[encoded data removed]",
      "text/html": [
       "<div>                            <div id=\"ac3ce64e-1941-47f9-a107-fd711220ee7e\" class=\"plotly-graph-div\" style=\"height:700px; width:1200px;\"></div>            <script type=\"text/javascript\">                require([\"plotly\"], function(Plotly) {                    window.PLOTLYENV=window.PLOTLYENV || {};                                    if (document.getElementById(\"ac3ce64e-1941-47f9-a107-fd711220ee7e\")) {                    Plotly.newPlot(                        \"ac3ce64e-1941-47f9-a107-fd711220ee7e\",                        [{\"line\":{\"color\":\"red\"},\"mode\":\"lines+markers\",\"name\":\"Female Authors\",\"x\":[1900,1901,1902,1903,1905,1906,1908,1909,1911,1912,1913,1915,1916,1917,1918,1919,1920,1921,1922,1923,1924,1925,1926,1927,1928,1929,1930,1931,1932,1933,1934,1935,1936,1937,1938,1939,1940,1941,1942,1943,1944,1945,1946,1947,1948,1949,1950,1951,1952,1953,1954,1955,1956,1957,1958,1959,1960,1961,1962,1963,1964,1965,1966,1967,1968,1969,1970,1971,1972,1973,1974,1975,1976,1977,1978,1979,1980,1981,1982,1983,1984,1985,1986,1987,1988,1989,1990,1991,1992,1993,1994,1995,1996,1997,1998,1999,2000,2001,2002,2003,2004,2005,2006,2007,2008,2009,2010,2011,2012,2013,2014,2015,2016,2017,2018,2019],\"y\":[3,3,6,1,6,1,7,1,4,1,1,1,1,1,4,1,4,1,10,4,1,1,4,4,2,1,7,6,3,1,6,8,7,11,9,3,5,1,19,13,9,7,2,10,11,11,3,5,4,5,7,7,5,8,6,8,16,6,15,19,9,7,11,19,7,14,13,16,19,19,13,17,22,17,35,13,23,30,30,19,35,22,27,40,19,46,35,37,58,43,50,56,57,73,70,76,78,96,101,117,114,161,223,191,307,412,553,833,1167,1627,1111,640,429,239,437,138],\"type\":\"scatter\"},{\"line\":{\"color\":\"blue\"},\"mode\":\"lines+markers\",\"name\":\"Male Authors\",\"x\":[1900,1901,1902,1903,1904,1905,1906,1907,1908,1909,1910,1911,1912,1913,1914,1915,1916,1917,1918,1919,1920,1921,1922,1923,1924,1925,1926,1927,1928,1929,1930,1931,1932,1933,1934,1935,1936,1937,1938,1939,1940,1941,1942,1943,1944,1945,1946,1947,1948,1949,1950,1951,1952,1953,1954,1955,1956,1957,1958,1959,1960,1961,1962,1963,1964,1965,1966,1967,1968,1969,1970,1971,1972,1973,1974,1975,1976,1977,1978,1979,1980,1981,1982,1983,1984,1985,1986,1987,1988,1989,1990,1991,1992,1993,1994,1995,1996,1997,1998,1999,2000,2001,2002,2003,2004,2005,2006,2007,2008,2009,2010,2011,2012,2013,2014,2015,2016,2017,2018,2019],\"y\":[15,3,12,9,15,5,11,5,16,2,5,4,4,5,6,7,9,2,12,7,3,11,10,8,8,11,16,21,9,22,19,9,18,10,26,11,14,18,11,20,21,16,9,8,12,22,24,27,26,16,19,17,32,32,31,39,31,25,42,36,30,37,34,32,30,28,33,34,41,41,51,48,48,59,52,51,44,55,48,58,58,45,56,57,61,60,66,73,75,70,74,77,111,88,107,125,96,118,122,115,141,151,165,201,229,216,289,327,382,373,496,764,975,1061,822,483,348,226,175,52],\"type\":\"scatter\"}],                        {\"template\":{\"data\":{\"histogram2dcontour\":[{\"type\":\"histogram2dcontour\",\"colorbar\":{\"outlinewidth\":0,\"ticks\":\"\"},\"colorscale\":[[0.0,\"#0d0887\"],[0.1111111111111111,\"#46039f\"],[0.2222222222222222,\"#7201a8\"],[0.3333333333333333,\"#9c179e\"],[0.4444444444444444,\"#bd3786\"],[0.5555555555555556,\"#d8576b\"],[0.6666666666666666,\"#ed7953\"],[0.7777777777777778,\"#fb9f3a\"],[0.8888888888888888,\"#fdca26\"],[1.0,\"#f0f921\"]]}],\"choropleth\":[{\"type\":\"choropleth\",\"colorbar\":{\"outlinewidth\":0,\"ticks\":\"\"}}],\"histogram2d\":[{\"type\":\"histogram2d\",\"colorbar\":{\"outlinewidth\":0,\"ticks\":\"\"},\"colorscale\":[[0.0,\"#0d0887\"],[0.1111111111111111,\"#46039f\"],[0.2222222222222222,\"#7201a8\"],[0.3333333333333333,\"#9c179e\"],[0.4444444444444444,\"#bd3786\"],[0.5555555555555556,\"#d8576b\"],[0.6666666666666666,\"#ed7953\"],[0.7777777777777778,\"#fb9f3a\"],[0.8888888888888888,\"#fdca26\"],[1.0,\"#f0f921\"]]}],\"heatmap\":[{\"type\":\"heatmap\",\"colorbar\":{\"outlinewidth\":0,\"ticks\":\"\"},\"colorscale\":[[0.0,\"#0d0887\"],[0.1111111111111111,\"#46039f\"],[0.2222222222222222,\"#7201a8\"],[0.3333333333333333,\"#9c179e\"],[0.4444444444444444,\"#bd3786\"],[0.5555555555555556,\"#d8576b\"],[0.6666666666666666,\"#ed7953\"],[0.7777777777777778,\"#fb9f3a\"],[0.8888888888888888,\"#fdca26\"],[1.0,\"#f0f921\"]]}],\"heatmapgl\":[{\"type\":\"heatmapgl\",\"colorbar\":{\"outlinewidth\":0,\"ticks\":\"\"},\"colorscale\":[[0.0,\"#0d0887\"],[0.1111111111111111,\"#46039f\"],[0.2222222222222222,\"#7201a8\"],[0.3333333333333333,\"#9c179e\"],[0.4444444444444444,\"#bd3786\"],[0.5555555555555556,\"#d8576b\"],[0.6666666666666666,\"#ed7953\"],[0.7777777777777778,\"#fb9f3a\"],[0.8888888888888888,\"#fdca26\"],[1.0,\"#f0f921\"]]}],\"contourcarpet\":[{\"type\":\"contourcarpet\",\"colorbar\":{\"outlinewidth\":0,\"ticks\":\"\"}}],\"contour\":[{\"type\":\"contour\",\"colorbar\":{\"outlinewidth\":0,\"ticks\":\"\"},\"colorscale\":[[0.0,\"#0d0887\"],[0.1111111111111111,\"#46039f\"],[0.2222222222222222,\"#7201a8\"],[0.3333333333333333,\"#9c179e\"],[0.4444444444444444,\"#bd3786\"],[0.5555555555555556,\"#d8576b\"],[0.6666666666666666,\"#ed7953\"],[0.7777777777777778,\"#fb9f3a\"],[0.8888888888888888,\"#fdca26\"],[1.0,\"#f0f921\"]]}],\"surface\":[{\"type\":\"surface\",\"colorbar\":{\"outlinewidth\":0,\"ticks\":\"\"},\"colorscale\":[[0.0,\"#0d0887\"],[0.1111111111111111,\"#46039f\"],[0.2222222222222222,\"#7201a8\"],[0.3333333333333333,\"#9c179e\"],[0.4444444444444444,\"#bd3786\"],[0.5555555555555556,\"#d8576b\"],[0.6666666666666666,\"#ed7953\"],[0.7777777777777778,\"#fb9f3a\"],[0.8888888888888888,\"#fdca26\"],[1.0,\"#f0f921\"]]}],\"mesh3d\":[{\"type\":\"mesh3d\",\"colorbar\":{\"outlinewidth\":0,\"ticks\":\"\"}}],\"scatter\":[{\"fillpattern\":{\"fillmode\":\"overlay\",\"size\":10,\"solidity\":0.2},\"type\":\"scatter\"}],\"parcoords\":[{\"type\":\"parcoords\",\"line\":{\"colorbar\":{\"outlinewidth\":0,\"ticks\":\"\"}}}],\"scatterpolargl\":[{\"type\":\"scatterpolargl\",\"marker\":{\"colorbar\":{\"outlinewidth\":0,\"ticks\":\"\"}}}],\"bar\":[{\"error_x\":{\"color\":\"#2a3f5f\"},\"error_y\":{\"color\":\"#2a3f5f\"},\"marker\":{\"line\":{\"color\":\"#E5ECF6\",\"width\":0.5},\"pattern\":{\"fillmode\":\"overlay\",\"size\":10,\"solidity\":0.2}},\"type\":\"bar\"}],\"scattergeo\":[{\"type\":\"scattergeo\",\"marker\":{\"colorbar\":{\"outlinewidth\":0,\"ticks\":\"\"}}}],\"scatterpolar\":[{\"type\":\"scatterpolar\",\"marker\":{\"colorbar\":{\"outlinewidth\":0,\"ticks\":\"\"}}}],\"histogram\":[{\"marker\":{\"pattern\":{\"fillmode\":\"overlay\",\"size\":10,\"solidity\":0.2}},\"type\":\"histogram\"}],\"scattergl\":[{\"type\":\"scattergl\",\"marker\":{\"colorbar\":{\"outlinewidth\":0,\"ticks\":\"\"}}}],\"scatter3d\":[{\"type\":\"scatter3d\",\"line\":{\"colorbar\":{\"outlinewidth\":0,\"ticks\":\"\"}},\"marker\":{\"colorbar\":{\"outlinewidth\":0,\"ticks\":\"\"}}}],\"scattermapbox\":[{\"type\":\"scattermapbox\",\"marker\":{\"colorbar\":{\"outlinewidth\":0,\"ticks\":\"\"}}}],\"scatterternary\":[{\"type\":\"scatterternary\",\"marker\":{\"colorbar\":{\"outlinewidth\":0,\"ticks\":\"\"}}}],\"scattercarpet\":[{\"type\":\"scattercarpet\",\"marker\":{\"colorbar\":{\"outlinewidth\":0,\"ticks\":\"\"}}}],\"carpet\":[{\"aaxis\":{\"endlinecolor\":\"#2a3f5f\",\"gridcolor\":\"white\",\"linecolor\":\"white\",\"minorgridcolor\":\"white\",\"startlinecolor\":\"#2a3f5f\"},\"baxis\":{\"endlinecolor\":\"#2a3f5f\",\"gridcolor\":\"white\",\"linecolor\":\"white\",\"minorgridcolor\":\"white\",\"startlinecolor\":\"#2a3f5f\"},\"type\":\"carpet\"}],\"table\":[{\"cells\":{\"fill\":{\"color\":\"#EBF0F8\"},\"line\":{\"color\":\"white\"}},\"header\":{\"fill\":{\"color\":\"#C8D4E3\"},\"line\":{\"color\":\"white\"}},\"type\":\"table\"}],\"barpolar\":[{\"marker\":{\"line\":{\"color\":\"#E5ECF6\",\"width\":0.5},\"pattern\":{\"fillmode\":\"overlay\",\"size\":10,\"solidity\":0.2}},\"type\":\"barpolar\"}],\"pie\":[{\"automargin\":true,\"type\":\"pie\"}]},\"layout\":{\"autotypenumbers\":\"strict\",\"colorway\":[\"#636efa\",\"#EF553B\",\"#00cc96\",\"#ab63fa\",\"#FFA15A\",\"#19d3f3\",\"#FF6692\",\"#B6E880\",\"#FF97FF\",\"#FECB52\"],\"font\":{\"color\":\"#2a3f5f\"},\"hovermode\":\"closest\",\"hoverlabel\":{\"align\":\"left\"},\"paper_bgcolor\":\"white\",\"plot_bgcolor\":\"#E5ECF6\",\"polar\":{\"bgcolor\":\"#E5ECF6\",\"angularaxis\":{\"gridcolor\":\"white\",\"linecolor\":\"white\",\"ticks\":\"\"},\"radialaxis\":{\"gridcolor\":\"white\",\"linecolor\":\"white\",\"ticks\":\"\"}},\"ternary\":{\"bgcolor\":\"#E5ECF6\",\"aaxis\":{\"gridcolor\":\"white\",\"linecolor\":\"white\",\"ticks\":\"\"},\"baxis\":{\"gridcolor\":\"white\",\"linecolor\":\"white\",\"ticks\":\"\"},\"caxis\":{\"gridcolor\":\"white\",\"linecolor\":\"white\",\"ticks\":\"\"}},\"coloraxis\":{\"colorbar\":{\"outlinewidth\":0,\"ticks\":\"\"}},\"colorscale\":{\"sequential\":[[0.0,\"#0d0887\"],[0.1111111111111111,\"#46039f\"],[0.2222222222222222,\"#7201a8\"],[0.3333333333333333,\"#9c179e\"],[0.4444444444444444,\"#bd3786\"],[0.5555555555555556,\"#d8576b\"],[0.6666666666666666,\"#ed7953\"],[0.7777777777777778,\"#fb9f3a\"],[0.8888888888888888,\"#fdca26\"],[1.0,\"#f0f921\"]],\"sequentialminus\":[[0.0,\"#0d0887\"],[0.1111111111111111,\"#46039f\"],[0.2222222222222222,\"#7201a8\"],[0.3333333333333333,\"#9c179e\"],[0.4444444444444444,\"#bd3786\"],[0.5555555555555556,\"#d8576b\"],[0.6666666666666666,\"#ed7953\"],[0.7777777777777778,\"#fb9f3a\"],[0.8888888888888888,\"#fdca26\"],[1.0,\"#f0f921\"]],\"diverging\":[[0,\"#8e0152\"],[0.1,\"#c51b7d\"],[0.2,\"#de77ae\"],[0.3,\"#f1b6da\"],[0.4,\"#fde0ef\"],[0.5,\"#f7f7f7\"],[0.6,\"#e6f5d0\"],[0.7,\"#b8e186\"],[0.8,\"#7fbc41\"],[0.9,\"#4d9221\"],[1,\"#276419\"]]},\"xaxis\":{\"gridcolor\":\"white\",\"linecolor\":\"white\",\"ticks\":\"\",\"title\":{\"standoff\":15},\"zerolinecolor\":\"white\",\"automargin\":true,\"zerolinewidth\":2},\"yaxis\":{\"gridcolor\":\"white\",\"linecolor\":\"white\",\"ticks\":\"\",\"title\":{\"standoff\":15},\"zerolinecolor\":\"white\",\"automargin\":true,\"zerolinewidth\":2},\"scene\":{\"xaxis\":{\"backgroundcolor\":\"#E5ECF6\",\"gridcolor\":\"white\",\"linecolor\":\"white\",\"showbackground\":true,\"ticks\":\"\",\"zerolinecolor\":\"white\",\"gridwidth\":2},\"yaxis\":{\"backgroundcolor\":\"#E5ECF6\",\"gridcolor\":\"white\",\"linecolor\":\"white\",\"showbackground\":true,\"ticks\":\"\",\"zerolinecolor\":\"white\",\"gridwidth\":2},\"zaxis\":{\"backgroundcolor\":\"#E5ECF6\",\"gridcolor\":\"white\",\"linecolor\":\"white\",\"showbackground\":true,\"ticks\":\"\",\"zerolinecolor\":\"white\",\"gridwidth\":2}},\"shapedefaults\":{\"line\":{\"color\":\"#2a3f5f\"}},\"annotationdefaults\":{\"arrowcolor\":\"#2a3f5f\",\"arrowhead\":0,\"arrowwidth\":1},\"geo\":{\"bgcolor\":\"white\",\"landcolor\":\"#E5ECF6\",\"subunitcolor\":\"white\",\"showland\":true,\"showlakes\":true,\"lakecolor\":\"white\"},\"title\":{\"x\":0.05},\"mapbox\":{\"style\":\"light\"}}},\"shapes\":[{\"line\":{\"color\":\"red\",\"dash\":\"dash\",\"width\":2},\"type\":\"line\",\"x0\":1997,\"x1\":1997,\"xref\":\"x\",\"y0\":0,\"y1\":1,\"yref\":\"y domain\"},{\"line\":{\"color\":\"red\",\"dash\":\"dash\",\"width\":2},\"type\":\"line\",\"x0\":1925,\"x1\":1925,\"xref\":\"x\",\"y0\":0,\"y1\":1,\"yref\":\"y domain\"},{\"line\":{\"color\":\"red\",\"dash\":\"dash\",\"width\":2},\"type\":\"line\",\"x0\":1920,\"x1\":1920,\"xref\":\"x\",\"y0\":0,\"y1\":1,\"yref\":\"y domain\"},{\"line\":{\"color\":\"red\",\"dash\":\"dash\",\"width\":2},\"type\":\"line\",\"x0\":1960,\"x1\":1960,\"xref\":\"x\",\"y0\":0,\"y1\":1,\"yref\":\"y domain\"},{\"line\":{\"color\":\"red\",\"dash\":\"dash\",\"width\":2},\"type\":\"line\",\"x0\":1970,\"x1\":1970,\"xref\":\"x\",\"y0\":0,\"y1\":1,\"yref\":\"y domain\"},{\"line\":{\"color\":\"red\",\"dash\":\"dash\",\"width\":2},\"type\":\"line\",\"x0\":1985,\"x1\":1985,\"xref\":\"x\",\"y0\":0,\"y1\":1,\"yref\":\"y domain\"},{\"line\":{\"color\":\"red\",\"dash\":\"dash\",\"width\":2},\"type\":\"line\",\"x0\":2008,\"x1\":2008,\"xref\":\"x\",\"y0\":0,\"y1\":1,\"yref\":\"y domain\"},{\"line\":{\"color\":\"blue\",\"dash\":\"dash\",\"width\":2},\"type\":\"line\",\"x0\":1925,\"x1\":1925,\"xref\":\"x\",\"y0\":0,\"y1\":1,\"yref\":\"y domain\"},{\"line\":{\"color\":\"blue\",\"dash\":\"dash\",\"width\":2},\"type\":\"line\",\"x0\":1954,\"x1\":1954,\"xref\":\"x\",\"y0\":0,\"y1\":1,\"yref\":\"y domain\"},{\"line\":{\"color\":\"blue\",\"dash\":\"dash\",\"width\":2},\"type\":\"line\",\"x0\":1949,\"x1\":1949,\"xref\":\"x\",\"y0\":0,\"y1\":1,\"yref\":\"y domain\"},{\"line\":{\"color\":\"blue\",\"dash\":\"dash\",\"width\":2},\"type\":\"line\",\"x0\":1974,\"x1\":1974,\"xref\":\"x\",\"y0\":0,\"y1\":1,\"yref\":\"y domain\"},{\"line\":{\"color\":\"blue\",\"dash\":\"dash\",\"width\":2},\"type\":\"line\",\"x0\":1987,\"x1\":1987,\"xref\":\"x\",\"y0\":0,\"y1\":1,\"yref\":\"y domain\"},{\"line\":{\"color\":\"blue\",\"dash\":\"dash\",\"width\":2},\"type\":\"line\",\"x0\":1968,\"x1\":1968,\"xref\":\"x\",\"y0\":0,\"y1\":1,\"yref\":\"y domain\"}],\"annotations\":[{\"arrowhead\":2,\"font\":{\"color\":\"red\"},\"showarrow\":true,\"text\":\"J.K. Rowling\",\"textangle\":-45,\"x\":1997,\"y\":1301.6000000000001,\"yshift\":20},{\"arrowhead\":2,\"font\":{\"color\":\"red\"},\"showarrow\":true,\"text\":\"Virginia Woolf\",\"textangle\":-45,\"x\":1925,\"y\":1301.6000000000001,\"yshift\":20},{\"arrowhead\":2,\"font\":{\"color\":\"red\"},\"showarrow\":true,\"text\":\"Agatha Christie\",\"textangle\":-45,\"x\":1920,\"y\":1301.6000000000001,\"yshift\":20},{\"arrowhead\":2,\"font\":{\"color\":\"red\"},\"showarrow\":true,\"text\":\"Harper Lee\",\"textangle\":-45,\"x\":1960,\"y\":1301.6000000000001,\"yshift\":20},{\"arrowhead\":2,\"font\":{\"color\":\"red\"},\"showarrow\":true,\"text\":\"Toni Morrison\",\"textangle\":-45,\"x\":1970,\"y\":1301.6000000000001,\"yshift\":20},{\"arrowhead\":2,\"font\":{\"color\":\"red\"},\"showarrow\":true,\"text\":\"Margaret Atwood\",\"textangle\":-45,\"x\":1985,\"y\":1301.6000000000001,\"yshift\":20},{\"arrowhead\":2,\"font\":{\"color\":\"red\"},\"showarrow\":true,\"text\":\"Suzanne Collins\",\"textangle\":-45,\"x\":2008,\"y\":1301.6000000000001,\"yshift\":20},{\"arrowhead\":2,\"font\":{\"color\":\"blue\"},\"showarrow\":true,\"text\":\"F. Scott Fitzgerald\",\"textangle\":-45,\"x\":1925,\"y\":848.8000000000001,\"yshift\":20},{\"arrowhead\":2,\"font\":{\"color\":\"blue\"},\"showarrow\":true,\"text\":\"J.R.R. Tolkien\",\"textangle\":-45,\"x\":1954,\"y\":848.8000000000001,\"yshift\":20},{\"arrowhead\":2,\"font\":{\"color\":\"blue\"},\"showarrow\":true,\"text\":\"George Orwell\",\"textangle\":-45,\"x\":1949,\"y\":848.8000000000001,\"yshift\":20},{\"arrowhead\":2,\"font\":{\"color\":\"blue\"},\"showarrow\":true,\"text\":\"Stephen King\",\"textangle\":-45,\"x\":1974,\"y\":848.8000000000001,\"yshift\":20},{\"arrowhead\":2,\"font\":{\"color\":\"blue\"},\"showarrow\":true,\"text\":\"Haruki Murakami\",\"textangle\":-45,\"x\":1987,\"y\":848.8000000000001,\"yshift\":20},{\"arrowhead\":2,\"font\":{\"color\":\"blue\"},\"showarrow\":true,\"text\":\"Philip K. Dick\",\"textangle\":-45,\"x\":1968,\"y\":848.8000000000001,\"yshift\":20}],\"xaxis\":{\"dtick\":5,\"range\":[1900,2019]},\"yaxis\":{\"dtick\":100,\"range\":[-50,1700]},\"legend\":{\"x\":0.02,\"y\":0.98},\"title\":{\"text\":\"Number of Books by Male & Female Authors From The 20th Century\"},\"width\":1200,\"height\":700},                        {\"responsive\": true}                    ).then(function(){\n",
       "                            \n",
       "var gd = document.getElementById('ac3ce64e-1941-47f9-a107-fd711220ee7e');\n",
       "var x = new MutationObserver(function (mutations, observer) {{\n",
       "        var display = window.getComputedStyle(gd).display;\n",
       "        if (!display || display === 'none') {{\n",
       "            console.log([gd, 'removed!']);\n",
       "            Plotly.purge(gd);\n",
       "            observer.disconnect();\n",
       "        }}\n",
       "}});\n",
       "\n",
       "// Listen for the removal of the full notebook cells\n",
       "var notebookContainer = gd.closest('#notebook-container');\n",
       "if (notebookContainer) {{\n",
       "    x.observe(notebookContainer, {childList: true});\n",
       "}}\n",
       "\n",
       "// Listen for the clearing of the current output cell\n",
       "var outputEl = gd.closest('.output');\n",
       "if (outputEl) {{\n",
       "    x.observe(outputEl, {childList: true});\n",
       "}}\n",
       "\n",
       "                        })                };                });            </script>        </div>"
      ]
     },
     "metadata": {},
     "output_type": "display_data"
    }
   ],
   "source": [
    "# Filter the data to only include years 1900 and above\n",
    "filtered_df = df[df['year'] >= 1900]\n",
    "\n",
    "# Group by year and count books by male and female authors\n",
    "female_books_per_year = filtered_df[filtered_df['author_gender'].str.lower() == 'female'].groupby('year')['book_title'].count().reset_index()\n",
    "male_books_per_year = filtered_df[filtered_df['author_gender'].str.lower() == 'male'].groupby('year')['book_title'].count().reset_index()\n",
    "\n",
    "# Create figure\n",
    "fig = go.Figure()\n",
    "\n",
    "# Add Female Authors Line\n",
    "fig.add_trace(go.Scatter(\n",
    "    x=female_books_per_year['year'], \n",
    "    y=female_books_per_year['book_title'], \n",
    "    mode='lines+markers', \n",
    "    name='Female Authors',\n",
    "    line=dict(color='red')  # Red for female authors\n",
    "))\n",
    "\n",
    "# Add Male Authors Line\n",
    "fig.add_trace(go.Scatter(\n",
    "    x=male_books_per_year['year'], \n",
    "    y=male_books_per_year['book_title'], \n",
    "    mode='lines+markers', \n",
    "    name='Male Authors',\n",
    "    line=dict(color='blue')  # Blue for male authors\n",
    "))\n",
    "\n",
    "# Famous female authors and their notable publication years\n",
    "famous_female_authors = {\n",
    "    \"J.K. Rowling\": 1997,\n",
    "    \"Virginia Woolf\": 1925,\n",
    "    \"Agatha Christie\": 1920,\n",
    "    \"Harper Lee\": 1960,\n",
    "    \"Toni Morrison\": 1970,\n",
    "    \"Margaret Atwood\": 1985,\n",
    "    \"Suzanne Collins\": 2008,\n",
    "}\n",
    "\n",
    "# Famous male authors and their notable publication years\n",
    "famous_male_authors = {\n",
    "    \"F. Scott Fitzgerald\": 1925,\n",
    "    \"J.R.R. Tolkien\": 1954,\n",
    "    \"George Orwell\": 1949,\n",
    "    \"Stephen King\": 1974,\n",
    "    \"Haruki Murakami\": 1987,\n",
    "    \"Philip K. Dick\": 1968,\n",
    "}\n",
    "\n",
    "# Add vertical lines and annotations for famous female authors\n",
    "for author, year in famous_female_authors.items():\n",
    "    fig.add_vline(x=year, line_width=2, line_dash=\"dash\", line_color=\"red\")\n",
    "    fig.add_annotation(x=year, y=max(female_books_per_year['book_title']) * 0.8,\n",
    "                       text=author, showarrow=True, arrowhead=2, yshift=20, textangle=-45, font=dict(color='red'))\n",
    "\n",
    "# Add vertical lines and annotations for famous male authors\n",
    "for author, year in famous_male_authors.items():\n",
    "    fig.add_vline(x=year, line_width=2, line_dash=\"dash\", line_color=\"blue\")\n",
    "    fig.add_annotation(x=year, y=max(male_books_per_year['book_title']) * 0.8,\n",
    "                       text=author, showarrow=True, arrowhead=2, yshift=20, textangle=-45, font=dict(color='blue'))\n",
    "\n",
    "# Update layout\n",
    "fig.update_layout(\n",
    "    title=\"Number of Books by Male & Female Authors From The 20th Century\",\n",
    "    xaxis=dict(dtick=5, range=[1900, max(filtered_df['year'])]),  # X-axis from 1900 onwards\n",
    "    yaxis=dict(dtick=100, range = [-50, 1700],),  # Y-axis tick spacing of 50 books\n",
    "    width=1200,  # Increase graph width\n",
    "    height=700,  # Increase graph height\n",
    "    legend=dict(x=0.02, y=0.98),  # Position legend in top left\n",
    ")\n",
    "\n",
    "# Show the interactive plot\n",
    "fig.show()\n",
    "fig.write_image('books_by_gender_1900.png')\n"
   ]
  },
  {
   "cell_type": "code",
   "execution_count": null,
   "id": "6e1284e1-3561-4adb-9784-e0d7b121383d",
   "metadata": {},
   "outputs": [],
   "source": []
  }
 ],
 "metadata": {
  "kernelspec": {
   "display_name": "Python 3 (ipykernel)",
   "language": "python",
   "name": "python3"
  },
  "language_info": {
   "codemirror_mode": {
    "name": "ipython",
    "version": 3
   },
   "file_extension": ".py",
   "mimetype": "text/x-python",
   "name": "python",
   "nbconvert_exporter": "python",
   "pygments_lexer": "ipython3",
   "version": "3.12.2"
  }
 },
 "nbformat": 4,
 "nbformat_minor": 5
}
